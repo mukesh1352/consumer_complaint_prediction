{
 "cells": [
  {
   "cell_type": "code",
   "execution_count": 1,
   "id": "9dac6905",
   "metadata": {},
   "outputs": [],
   "source": [
    "import pandas as pd\n",
    "import numpy as np\n",
    "import matplotlib.pyplot as plt\n",
    "import seaborn as sns\n",
    "import requests, zipfile, io, re\n",
    "\n",
    "from sklearn.model_selection import train_test_split, RandomizedSearchCV\n",
    "from sklearn.feature_extraction.text import TfidfVectorizer\n",
    "from sklearn.linear_model import LogisticRegression\n",
    "from sklearn.ensemble import RandomForestClassifier\n",
    "from sklearn.tree import DecisionTreeClassifier\n",
    "from sklearn.naive_bayes import MultinomialNB\n",
    "from sklearn.metrics import classification_report, confusion_matrix, accuracy_score\n",
    "from imblearn.over_sampling import SMOTE"
   ]
  },
  {
   "cell_type": "code",
   "execution_count": null,
   "id": "47295d5b",
   "metadata": {},
   "outputs": [],
   "source": [
    "#download the dataset\n",
    "\n",
    "url = \"https://files.consumerfinance.gov/ccdb/complaints.csv.zip\"\n",
    "response = requests.get(url)\n",
    "with zipfile.ZipFile(io.BytesIO(response.content)) as z:\n",
    "    z.extractall(\"consumer_complaints\")"
   ]
  },
  {
   "cell_type": "code",
   "execution_count": 2,
   "id": "ea0e5984",
   "metadata": {},
   "outputs": [],
   "source": [
    "file_path = \"consumer_complaints/complaints.csv\"\n",
    "data = pd.read_csv(file_path)\n",
    "data = data[['Product', 'Consumer complaint narrative']].dropna()"
   ]
  },
  {
   "cell_type": "code",
   "execution_count": 3,
   "id": "1f012b67",
   "metadata": {},
   "outputs": [
    {
     "name": "stdout",
     "output_type": "stream",
     "text": [
      "Subset size: 30000\n"
     ]
    }
   ],
   "source": [
    "subset_size = min(30000, len(data))\n",
    "data = data.sample(n=subset_size, random_state=42)\n",
    "print(\"Subset size:\", len(data))\n"
   ]
  },
  {
   "cell_type": "code",
   "execution_count": 4,
   "id": "260f1866",
   "metadata": {},
   "outputs": [
    {
     "data": {
      "image/png": "[encoded data removed]",
      "text/plain": [
       "<Figure size 600x400 with 1 Axes>"
      ]
     },
     "metadata": {},
     "output_type": "display_data"
    }
   ],
   "source": [
    "#mapping the products\n",
    "category_map = {\n",
    "    'Credit reporting': 0,\n",
    "    'Credit repair services': 0,\n",
    "    'Other financial service': 0,\n",
    "    'Debt collection': 1,\n",
    "    'Consumer Loan': 2,\n",
    "    'Mortgage': 3\n",
    "}\n",
    "\n",
    "data = data[data['Product'].isin(category_map.keys())]\n",
    "data['Category'] = data['Product'].map(category_map)\n",
    "\n",
    "plt.figure(figsize=(6,4))\n",
    "sns.countplot(x='Category', data=data)\n",
    "plt.title(\"Category Distribution\")\n",
    "plt.show()\n"
   ]
  },
  {
   "cell_type": "code",
   "execution_count": 5,
   "id": "e43bbf3f",
   "metadata": {},
   "outputs": [],
   "source": [
    "stop_words = set([\n",
    "    'a', 'an', 'the', 'and', 'or', 'is', 'are', 'was', 'were', 'in', 'on',\n",
    "    'at', 'of', 'for', 'to', 'from', 'by', 'with', 'i', 'you', 'my', 'me',\n",
    "    'we', 'our', 'us', 'it', 'this', 'that', 'be', 'as', 'not', 'but'\n",
    "])\n",
    "\n",
    "def preprocess_text(text):\n",
    "    text = str(text).lower()\n",
    "    text = re.sub(r'[^a-z\\s]', '', text)\n",
    "    words = [word for word in text.split() if word not in stop_words]\n",
    "    return \" \".join(words)\n",
    "\n",
    "data['clean_text'] = data['Consumer complaint narrative'].apply(preprocess_text)\n"
   ]
  },
  {
   "cell_type": "code",
   "execution_count": 6,
   "id": "67689313",
   "metadata": {},
   "outputs": [],
   "source": [
    "X = data['clean_text']\n",
    "y = data['Category']\n",
    "\n",
    "X_train, X_test, y_train, y_test = train_test_split(\n",
    "    X, y, test_size=0.2, stratify=y, random_state=42\n",
    ")\n"
   ]
  },
  {
   "cell_type": "code",
   "execution_count": 7,
   "id": "b8bb1f36",
   "metadata": {},
   "outputs": [],
   "source": [
    "tfidf = TfidfVectorizer(max_features=5000, ngram_range=(1,2), min_df=2, max_df=0.8, sublinear_tf=True)\n",
    "X_train_tfidf = tfidf.fit_transform(X_train)\n",
    "X_test_tfidf = tfidf.transform(X_test)\n"
   ]
  },
  {
   "cell_type": "code",
   "execution_count": 8,
   "id": "67c9360b",
   "metadata": {},
   "outputs": [],
   "source": [
    "#for class imbalance handling\n",
    "smote = SMOTE(random_state=42)\n",
    "X_train_res, y_train_res = smote.fit_resample(X_train_tfidf, y_train)\n"
   ]
  },
  {
   "cell_type": "code",
   "execution_count": 12,
   "id": "2612a83c",
   "metadata": {},
   "outputs": [
    {
     "name": "stdout",
     "output_type": "stream",
     "text": [
      "Training Logistic Regression...\n"
     ]
    },
    {
     "name": "stderr",
     "output_type": "stream",
     "text": [
      "/home/mukesh/task-5/venv/lib/python3.13/site-packages/sklearn/model_selection/_search.py:317: UserWarning: The total space of parameters 3 is smaller than n_iter=5. Running 3 iterations. For exhaustive searches, use GridSearchCV.\n",
      "  warnings.warn(\n"
     ]
    },
    {
     "name": "stdout",
     "output_type": "stream",
     "text": [
      "Best CV Accuracy: 0.9857\n",
      "Best Params: {'solver': 'lbfgs', 'C': 10}\n",
      "\n",
      "Training Random Forest...\n",
      "Best CV Accuracy: 0.9716\n",
      "Best Params: {'n_estimators': 200, 'max_depth': None}\n",
      "\n",
      "Training Decision Tree...\n"
     ]
    },
    {
     "name": "stderr",
     "output_type": "stream",
     "text": [
      "/home/mukesh/task-5/venv/lib/python3.13/site-packages/sklearn/model_selection/_search.py:317: UserWarning: The total space of parameters 3 is smaller than n_iter=5. Running 3 iterations. For exhaustive searches, use GridSearchCV.\n",
      "  warnings.warn(\n"
     ]
    },
    {
     "name": "stdout",
     "output_type": "stream",
     "text": [
      "Best CV Accuracy: 0.9322\n",
      "Best Params: {'max_depth': None}\n",
      "\n",
      "Training Naive Bayes...\n",
      "Best CV Accuracy: 0.9656\n",
      "Best Params: {'alpha': 0.01}\n",
      "\n"
     ]
    },
    {
     "name": "stderr",
     "output_type": "stream",
     "text": [
      "/home/mukesh/task-5/venv/lib/python3.13/site-packages/sklearn/model_selection/_search.py:317: UserWarning: The total space of parameters 3 is smaller than n_iter=5. Running 3 iterations. For exhaustive searches, use GridSearchCV.\n",
      "  warnings.warn(\n"
     ]
    }
   ],
   "source": [
    "# Define all models including XGBoost\n",
    "models = {\n",
    "    \"Logistic Regression\": {\n",
    "        \"model\": LogisticRegression(max_iter=1000, class_weight='balanced'),\n",
    "        \"params\": {\"C\": [0.1, 1, 10], \"solver\": [\"lbfgs\"]}\n",
    "    },\n",
    "    \"Random Forest\": {\n",
    "        \"model\": RandomForestClassifier(random_state=42, class_weight='balanced'),\n",
    "        \"params\": {\"n_estimators\": [100, 200], \"max_depth\": [10, 20, None]}\n",
    "    },\n",
    "    \"Decision Tree\": {\n",
    "        \"model\": DecisionTreeClassifier(random_state=42, class_weight='balanced'),\n",
    "        \"params\": {\"max_depth\": [10, 20, None]}\n",
    "    },\n",
    "    \"Naive Bayes\": {\n",
    "        \"model\": MultinomialNB(),\n",
    "        \"params\": {\"alpha\": [0.01, 0.1, 1]}\n",
    "    },\n",
    "}\n",
    "\n",
    "# Train models with RandomizedSearchCV\n",
    "best_models = {}\n",
    "results = {}\n",
    "\n",
    "for name, m in models.items():\n",
    "    print(f\"Training {name}...\")\n",
    "    rs = RandomizedSearchCV(\n",
    "        m[\"model\"], m[\"params\"], n_iter=5, cv=3, scoring='accuracy', n_jobs=-1, random_state=42\n",
    "    )\n",
    "    rs.fit(X_train_res, y_train_res)\n",
    "    best_models[name] = rs.best_estimator_\n",
    "    results[name] = rs.best_score_\n",
    "    print(f\"Best CV Accuracy: {rs.best_score_:.4f}\")\n",
    "    print(f\"Best Params: {rs.best_params_}\\n\")"
   ]
  },
  {
   "cell_type": "code",
   "execution_count": 13,
   "id": "337598fa",
   "metadata": {},
   "outputs": [
    {
     "name": "stdout",
     "output_type": "stream",
     "text": [
      "Selected Best Model: Logistic Regression with CV Accuracy: 0.9857\n"
     ]
    }
   ],
   "source": [
    "best_model_name = max(results, key=results.get)\n",
    "best_model = best_models[best_model_name]\n",
    "print(f\"Selected Best Model: {best_model_name} with CV Accuracy: {results[best_model_name]:.4f}\")\n",
    "\n",
    "# Fit the best model on resampled training data\n",
    "best_model.fit(X_train_res, y_train_res)\n",
    "\n",
    "# Predictions on test set\n",
    "y_pred = best_model.predict(X_test_tfidf)"
   ]
  },
  {
   "cell_type": "code",
   "execution_count": 14,
   "id": "e20d7e90",
   "metadata": {},
   "outputs": [
    {
     "name": "stdout",
     "output_type": "stream",
     "text": [
      "Classification Report:\n",
      "\n",
      "              precision    recall  f1-score   support\n",
      "\n",
      "           0       0.80      0.60      0.69        53\n",
      "           1       0.95      0.97      0.96       666\n",
      "           2       0.78      0.44      0.56        16\n",
      "           3       0.93      0.93      0.93       242\n",
      "\n",
      "    accuracy                           0.93       977\n",
      "   macro avg       0.86      0.74      0.78       977\n",
      "weighted avg       0.93      0.93      0.93       977\n",
      "\n",
      "Overall Accuracy: 0.9335\n"
     ]
    },
    {
     "data": {
      "image/png": "[encoded data removed]",
      "text/plain": [
       "<Figure size 800x600 with 2 Axes>"
      ]
     },
     "metadata": {},
     "output_type": "display_data"
    }
   ],
   "source": [
    "from sklearn.metrics import classification_report, accuracy_score, confusion_matrix\n",
    "print(\"Classification Report:\\n\")\n",
    "print(classification_report(y_test, y_pred))\n",
    "\n",
    "acc = accuracy_score(y_test, y_pred)\n",
    "print(f\"Overall Accuracy: {acc:.4f}\")\n",
    "\n",
    "# Confusion matrix\n",
    "plt.figure(figsize=(8,6))\n",
    "cm = confusion_matrix(y_test, y_pred)\n",
    "sns.heatmap(cm, annot=True, fmt='d', cmap='Blues', xticklabels=[0,1,2,3], yticklabels=[0,1,2,3])\n",
    "plt.xlabel('Predicted')\n",
    "plt.ylabel('Actual')\n",
    "plt.title(f'Confusion Matrix for {best_model_name}')\n",
    "plt.show()"
   ]
  },
  {
   "cell_type": "code",
   "execution_count": 15,
   "id": "a504ddf0",
   "metadata": {},
   "outputs": [
    {
     "name": "stdout",
     "output_type": "stream",
     "text": [
      "Top words for category 0: ['credit card', 'credit report', 'all xxxx', 'inquiries', 'alert', 'card', 'report', 'transunion', 'equifax', 'experian']\n",
      "Top words for category 1: ['accounts', 'company', 'inaccuracies', 'collector', 'owed', 'owe', 'collect', 'xxxx xxxx', 'collection', 'debt']\n",
      "Top words for category 2: ['santander', 'nt', 'dealership', 'ally', 'auto', 'payment', 'honda', 'loan', 'car', 'vehicle']\n",
      "Top words for category 3: ['property', 'mortgage company', 'closing', 'foreclosure', 'lender', 'loan', 'modification', 'escrow', 'home', 'mortgage']\n"
     ]
    }
   ],
   "source": [
    "feature_names = tfidf.get_feature_names_out()\n",
    "\n",
    "if isinstance(best_model, LogisticRegression):\n",
    "    coefs = best_model.coef_\n",
    "    for i, category in enumerate([0,1,2,3]):\n",
    "        top_features = np.argsort(coefs[i])[-10:]\n",
    "        print(f\"Top words for category {i}: {[feature_names[j] for j in top_features]}\")\n",
    "elif isinstance(best_model, (RandomForestClassifier, DecisionTreeClassifier, XGBClassifier)):\n",
    "    importances = best_model.feature_importances_\n",
    "    indices = np.argsort(importances)[-10:]\n",
    "    print(f\"Top features influencing {best_model_name}:\")\n",
    "    for idx in indices:\n",
    "        print(f\"{feature_names[idx]}: {importances[idx]:.4f}\")\n",
    "elif isinstance(best_model, MultinomialNB):\n",
    "    coefs = best_model.feature_log_prob_\n",
    "    for i, category in enumerate([0,1,2,3]):\n",
    "        top_features = np.argsort(coefs[i])[-10:]\n",
    "        print(f\"Top words for category {i} (NB): {[feature_names[j] for j in top_features]}\")\n",
    "else:\n",
    "    print(\"This model type does not provide feature importance.\")\n"
   ]
  },
  {
   "cell_type": "code",
   "execution_count": 16,
   "id": "5d720fc6",
   "metadata": {},
   "outputs": [
    {
     "name": "stdout",
     "output_type": "stream",
     "text": [
      "Text: 'I cannot get my credit report fixed' --> Predicted Category: 0\n",
      "Text: 'Debt collector called me for wrong bill' --> Predicted Category: 1\n",
      "Text: 'Mortgage payment was overcharged' --> Predicted Category: 3\n",
      "Text: 'Loan application denied unfairly' --> Predicted Category: 3\n"
     ]
    }
   ],
   "source": [
    "new_texts = [\n",
    "    \"I cannot get my credit report fixed\",\n",
    "    \"Debt collector called me for wrong bill\",\n",
    "    \"Mortgage payment was overcharged\",\n",
    "    \"Loan application denied unfairly\"\n",
    "]\n",
    "\n",
    "new_texts_clean = [preprocess_text(text) for text in new_texts]\n",
    "new_tfidf = tfidf.transform(new_texts_clean)\n",
    "\n",
    "preds = best_model.predict(new_tfidf)\n",
    "\n",
    "for text, pred in zip(new_texts, preds):\n",
    "    print(f\"Text: '{text}' --> Predicted Category: {pred}\")"
   ]
  },
  {
   "cell_type": "code",
   "execution_count": null,
   "id": "25619387",
   "metadata": {},
   "outputs": [],
   "source": []
  }
 ],
 "metadata": {
  "kernelspec": {
   "display_name": "venv",
   "language": "python",
   "name": "python3"
  },
  "language_info": {
   "codemirror_mode": {
    "name": "ipython",
    "version": 3
   },
   "file_extension": ".py",
   "mimetype": "text/x-python",
   "name": "python",
   "nbconvert_exporter": "python",
   "pygments_lexer": "ipython3",
   "version": "3.13.7"
  }
 },
 "nbformat": 4,
 "nbformat_minor": 5
}
